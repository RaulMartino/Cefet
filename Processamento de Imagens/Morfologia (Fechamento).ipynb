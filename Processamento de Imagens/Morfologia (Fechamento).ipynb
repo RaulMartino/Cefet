{
 "cells": [
  {
   "cell_type": "code",
   "execution_count": 7,
   "id": "6785ddec",
   "metadata": {},
   "outputs": [
    {
     "name": "stdout",
     "output_type": "stream",
     "text": [
      "Insira a ordem do kernel: 5\n",
      "Elemento estruturante em cruz ou completo? cruz\n",
      "[[  0   0 255   0   0]\n",
      " [  0   0 255   0   0]\n",
      " [255 255 255 255 255]\n",
      " [  0   0 255   0   0]\n",
      " [  0   0 255   0   0]]\n"
     ]
    },
    {
     "data": {
      "text/plain": [
       "-1"
      ]
     },
     "execution_count": 7,
     "metadata": {},
     "output_type": "execute_result"
    }
   ],
   "source": [
    "import cv2\n",
    "import numpy as np\n",
    "\n",
    "kernel_size = int(input('Insira a ordem do kernel: '))\n",
    "tipo_kernel = input('Elemento estruturante em cruz ou completo? ')\n",
    "\n",
    "#Importando a imagem e deixando ela em preto e branco\n",
    "path = 'buraco no quadro.jpeg'\n",
    "img = cv2.imread(path, 0)\n",
    "threshold, img_thresh = cv2.threshold(img, 100, 255, cv2.THRESH_BINARY)\n",
    "img_height = img.shape[0]\n",
    "img_width = img.shape[1]\n",
    "\n",
    "#Criando o kernel quadrado com a ordem e o elemento estruturante pedidos pelo usuário\n",
    "if (tipo_kernel == 'completo'):\n",
    "    kernel = np.ones((kernel_size,kernel_size), dtype='uint8')\n",
    "    kernel = kernel * 255\n",
    "elif (tipo_kernel == 'cruz'):\n",
    "    kernel = np.zeros((kernel_size,kernel_size), dtype='uint8')\n",
    "    mid = kernel_size // 2\n",
    "    for i in range(kernel_size):\n",
    "        kernel[i, mid] = 255\n",
    "        kernel[mid, i] = 255\n",
    "    \n",
    "print(kernel)\n",
    "\n",
    "kernel_height = kernel.shape[0]\n",
    "kernel_width = kernel.shape[1]\n",
    "\n",
    "\n",
    "#Criando a imagem de saída\n",
    "dilated_img = np.zeros(img.shape[:2], dtype='uint8')\n",
    "\n",
    "#Fazendo a dilatação\n",
    "for l in range(img_height - (kernel_size-1)):\n",
    "    for k in range(img_width - (kernel_size-1)):\n",
    "        for i in range(kernel_height):\n",
    "            for j in range(kernel_width):\n",
    "                if (kernel[i,j] == img_thresh[i+l,j+k]) and (kernel[i,j] == 255):\n",
    "                    dilated_img[l+1,k+1] = 255\n",
    "                    break\n",
    "\n",
    "#Criando a imagem de saída\n",
    "closed_img = np.zeros(img.shape[:2], dtype='uint8')\n",
    "\n",
    "#Fazendo a erosão\n",
    "for l in range(img_height - (kernel_size-1)):\n",
    "    for k in range(img_width - (kernel_size-1)):\n",
    "        flag = True\n",
    "        for i in range(kernel_height):\n",
    "            for j in range(kernel_width):\n",
    "                if (kernel[i,j] != dilated_img[i+l,j+k]) and (kernel[i,j] == 255):\n",
    "                    flag = False\n",
    "            if (flag == False):\n",
    "                break\n",
    "        if (flag == True):\n",
    "            closed_img[l+1,k+1] = 255\n",
    "            \n",
    "                    \n",
    "cv2.imshow('Original',img_thresh)\n",
    "cv2.imshow('Dilated',dilated_img)  \n",
    "cv2.imshow('Closed',closed_img)\n",
    "cv2.waitKey()"
   ]
  },
  {
   "cell_type": "code",
   "execution_count": null,
   "id": "53f71acd",
   "metadata": {},
   "outputs": [],
   "source": []
  }
 ],
 "metadata": {
  "kernelspec": {
   "display_name": "Python 3 (ipykernel)",
   "language": "python",
   "name": "python3"
  },
  "language_info": {
   "codemirror_mode": {
    "name": "ipython",
    "version": 3
   },
   "file_extension": ".py",
   "mimetype": "text/x-python",
   "name": "python",
   "nbconvert_exporter": "python",
   "pygments_lexer": "ipython3",
   "version": "3.10.9"
  }
 },
 "nbformat": 4,
 "nbformat_minor": 5
}
