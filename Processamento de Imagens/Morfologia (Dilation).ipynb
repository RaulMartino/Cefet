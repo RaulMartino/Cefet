{
 "cells": [
  {
   "cell_type": "code",
   "execution_count": 1,
   "id": "50d8af1c",
   "metadata": {},
   "outputs": [],
   "source": [
    "import cv2\n",
    "import numpy as np\n",
    "\n",
    "#Criando uma imagem de teste\n",
    "imagem_teste = np.array([[0,0,0,0,0,0,0,0,0],\n",
    "                         [0,0,0,0,0,0,0,0,0],\n",
    "                         [0,0,0,0,0,0,0,0,0],\n",
    "                         [0,0,1,1,1,1,1,0,0],\n",
    "                         [0,0,1,1,1,1,1,0,0],\n",
    "                         [0,0,1,1,1,1,1,0,0],\n",
    "                         [0,0,0,0,0,0,0,0,0],\n",
    "                         [0,0,0,0,0,0,0,0,0],\n",
    "                         [0,0,0,0,0,0,0,0,0]],\n",
    "                         dtype='uint8')\n",
    "\n",
    "kernel_teste = np.array([[0,1,0],\n",
    "                         [1,1,1],\n",
    "                         [0,1,0]])\n",
    "\n",
    "kernel_teste_height = kernel_teste.shape[0]\n",
    "kernel_teste_width = kernel_teste.shape[1]"
   ]
  },
  {
   "cell_type": "code",
   "execution_count": 2,
   "id": "57e0026b",
   "metadata": {},
   "outputs": [],
   "source": [
    "dilated_img = np.zeros((9,9), dtype='uint8')\n",
    "\n",
    "\n",
    "for l in range(7):\n",
    "    for k in range(7):\n",
    "        for i in range(kernel_teste_height):\n",
    "            for j in range(kernel_teste_width):\n",
    "                if (kernel_teste[i,j] == imagem_teste[i+l,j+k]) and (kernel_teste[i,j] == 1):\n",
    "                    dilated_img[l+1,k+1] = 1\n",
    "                    break"
   ]
  },
  {
   "cell_type": "code",
   "execution_count": 3,
   "id": "a61a7c49",
   "metadata": {},
   "outputs": [
    {
     "data": {
      "text/plain": [
       "array([[0, 0, 0, 0, 0, 0, 0, 0, 0],\n",
       "       [0, 0, 0, 0, 0, 0, 0, 0, 0],\n",
       "       [0, 0, 1, 1, 1, 1, 1, 0, 0],\n",
       "       [0, 1, 1, 1, 1, 1, 1, 1, 0],\n",
       "       [0, 1, 1, 1, 1, 1, 1, 1, 0],\n",
       "       [0, 1, 1, 1, 1, 1, 1, 1, 0],\n",
       "       [0, 0, 1, 1, 1, 1, 1, 0, 0],\n",
       "       [0, 0, 0, 0, 0, 0, 0, 0, 0],\n",
       "       [0, 0, 0, 0, 0, 0, 0, 0, 0]], dtype=uint8)"
      ]
     },
     "execution_count": 3,
     "metadata": {},
     "output_type": "execute_result"
    }
   ],
   "source": [
    "dilated_img"
   ]
  },
  {
   "cell_type": "markdown",
   "id": "85d266e9",
   "metadata": {},
   "source": [
    "## Fazendo pra valer"
   ]
  },
  {
   "cell_type": "code",
   "execution_count": 10,
   "id": "a7c25cbf",
   "metadata": {},
   "outputs": [
    {
     "data": {
      "text/plain": [
       "-1"
      ]
     },
     "execution_count": 10,
     "metadata": {},
     "output_type": "execute_result"
    }
   ],
   "source": [
    "#Importando a imagem e deixando ela em preto e branco\n",
    "path = 'lowcontrast.jpg'\n",
    "img = cv2.imread(path, 0)\n",
    "threshold, img_thresh = cv2.threshold(img, 225, 255, cv2.THRESH_BINARY_INV)\n",
    "img_height = img.shape[0]\n",
    "img_width = img.shape[1]\n",
    "\n",
    "#Criando o kernel 3x3 com 1's\n",
    "kernel = np.array([[255,255,255],\n",
    "                   [255,255,255],\n",
    "                   [255,255,255]], dtype='uint8')\n",
    "\n",
    "kernel_height = kernel.shape[0]\n",
    "kernel_width = kernel.shape[1]\n",
    "\n",
    "#Criando a imagem de saída\n",
    "dilated_img = np.zeros(img.shape[:2], dtype='uint8')\n",
    "\n",
    "#Fazendo a dilatação\n",
    "for l in range(img_height - 2):\n",
    "    for k in range(img_width - 2):\n",
    "        for i in range(kernel_teste_height):\n",
    "            for j in range(kernel_teste_width):\n",
    "                if (kernel[i,j] == img_thresh[i+l,j+k]) and (kernel[i,j] == 255):\n",
    "                    dilated_img[l+1,k+1] = 255\n",
    "                    break\n",
    "                    \n",
    "cv2.imshow('Original',img_thresh)\n",
    "cv2.imshow('Dilated',dilated_img)\n",
    "cv2.waitKey()"
   ]
  },
  {
   "cell_type": "markdown",
   "id": "ee6f17bf",
   "metadata": {},
   "source": [
    "## Automatizando"
   ]
  },
  {
   "cell_type": "code",
   "execution_count": 51,
   "id": "2274a360",
   "metadata": {},
   "outputs": [
    {
     "name": "stdout",
     "output_type": "stream",
     "text": [
      "Insira a ordem do kernel: 5\n",
      "Elemento estruturante em cruz ou completo? completo\n",
      "[[255 255 255 255 255]\n",
      " [255 255 255 255 255]\n",
      " [255 255 255 255 255]\n",
      " [255 255 255 255 255]\n",
      " [255 255 255 255 255]]\n"
     ]
    },
    {
     "data": {
      "text/plain": [
       "-1"
      ]
     },
     "execution_count": 51,
     "metadata": {},
     "output_type": "execute_result"
    }
   ],
   "source": [
    "kernel_size = int(input('Insira a ordem do kernel: '))\n",
    "tipo_kernel = input('Elemento estruturante em cruz ou completo? ')\n",
    "\n",
    "#Importando a imagem e deixando ela em preto e branco\n",
    "path = 'lowcontrast.jpg'\n",
    "img = cv2.imread(path, 0)\n",
    "threshold, img_thresh = cv2.threshold(img, 225, 255, cv2.THRESH_BINARY_INV)\n",
    "img_height = img.shape[0]\n",
    "img_width = img.shape[1]\n",
    "\n",
    "#Criando o kernel quadrado com a ordem e o elemento estruturante pedidos pelo usuário\n",
    "if (tipo_kernel == 'completo'):\n",
    "    kernel = np.ones((kernel_size,kernel_size), dtype='uint8')\n",
    "    kernel = kernel * 255\n",
    "elif (tipo_kernel == 'cruz'):\n",
    "    kernel = np.zeros((kernel_size,kernel_size), dtype='uint8')\n",
    "    mid = kernel_size // 2\n",
    "    for i in range(kernel_size):\n",
    "        kernel[i, mid] = 255\n",
    "        kernel[mid, i] = 255\n",
    "    \n",
    "print(kernel)\n",
    "\n",
    "kernel_height = kernel.shape[0]\n",
    "kernel_width = kernel.shape[1]\n",
    "\n",
    "#Criando a imagem de saída\n",
    "dilated_img = np.zeros(img.shape[:2], dtype='uint8')\n",
    "\n",
    "#Fazendo a dilatação\n",
    "for l in range(img_height - (kernel_size-1)):\n",
    "    for k in range(img_width - (kernel_size-1)):\n",
    "        for i in range(kernel_height):\n",
    "            for j in range(kernel_width):\n",
    "                if (kernel[i,j] == img_thresh[i+l,j+k]) and (kernel[i,j] == 255):\n",
    "                    dilated_img[l+1,k+1] = 255\n",
    "                    break\n",
    "                    \n",
    "cv2.imshow('Original',img_thresh)\n",
    "cv2.imshow('Dilated',dilated_img)\n",
    "cv2.waitKey()"
   ]
  }
 ],
 "metadata": {
  "kernelspec": {
   "display_name": "Python 3 (ipykernel)",
   "language": "python",
   "name": "python3"
  },
  "language_info": {
   "codemirror_mode": {
    "name": "ipython",
    "version": 3
   },
   "file_extension": ".py",
   "mimetype": "text/x-python",
   "name": "python",
   "nbconvert_exporter": "python",
   "pygments_lexer": "ipython3",
   "version": "3.10.9"
  }
 },
 "nbformat": 4,
 "nbformat_minor": 5
}
