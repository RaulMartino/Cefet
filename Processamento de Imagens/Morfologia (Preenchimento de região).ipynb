{
 "cells": [
  {
   "cell_type": "code",
   "execution_count": 5,
   "id": "a42440f3",
   "metadata": {},
   "outputs": [
    {
     "data": {
      "text/plain": [
       "-1"
      ]
     },
     "execution_count": 5,
     "metadata": {},
     "output_type": "execute_result"
    }
   ],
   "source": [
    "import cv2\n",
    "import numpy as np\n",
    "\n",
    "#Passo 0, preparar a imagem\n",
    "#Importando a imagem e deixando ela em tons de cinza\n",
    "path = 'thunder.png'\n",
    "img = cv2.imread(path, 0)\n",
    "img_height = img.shape[0]\n",
    "img_width = img.shape[1]\n",
    "\n",
    "#Passo 1, fazendo a imagem em preto e branco\n",
    "threshold, img_thresh = cv2.threshold(img, 120, 255, cv2.THRESH_BINARY)\n",
    "\n",
    "#Passo 2, fazendo o complemento da imagem, branco e preto\n",
    "threshold_comp, img_thresh_comp = cv2.threshold(img, 120, 255, cv2.THRESH_BINARY_INV)\n",
    "\n",
    "#Passo 3, criar um kernel\n",
    "kernel = np.array([[255,  0,255],\n",
    "                   [  0,  0,  0],\n",
    "                   [255,  0,255]], dtype='uint8')\n",
    "\n",
    "#Passo 4, tirar as medidas do kernel\n",
    "kernel_size = 3\n",
    "kernel_height = kernel.shape[0]\n",
    "kernel_width = kernel.shape[1]\n",
    "\n",
    "#Passo 5, criar uma imagem de saída de dilatação\n",
    "dilated_img = np.ones(img.shape[:2], dtype='uint8')*255\n",
    "\n",
    "#Passo 6, executar a dilatação\n",
    "for l in range(img_height - (kernel_size-1)):\n",
    "    for k in range(img_width - (kernel_size-1)):\n",
    "        for i in range(kernel_height):\n",
    "            for j in range(kernel_width):\n",
    "                if (kernel[i,j] == img_thresh[i+l,j+k]) and (kernel[i,j] == 0):\n",
    "                    dilated_img[l+1,k+1] = 0\n",
    "                    if (dilated_img[l+1,k+1] == img_thresh_comp[l+1,k+1]):\n",
    "                        break\n",
    "                    else:\n",
    "                        dilated_img[l+1,k+1] = 255\n",
    "                        \n",
    "\n",
    "cv2.imshow('preto e branco', img_thresh)\n",
    "cv2.waitKey()\n",
    "cv2.imshow('interior', dilated_img)\n",
    "cv2.waitKey()"
   ]
  }
 ],
 "metadata": {
  "kernelspec": {
   "display_name": "Python 3 (ipykernel)",
   "language": "python",
   "name": "python3"
  },
  "language_info": {
   "codemirror_mode": {
    "name": "ipython",
    "version": 3
   },
   "file_extension": ".py",
   "mimetype": "text/x-python",
   "name": "python",
   "nbconvert_exporter": "python",
   "pygments_lexer": "ipython3",
   "version": "3.10.9"
  }
 },
 "nbformat": 4,
 "nbformat_minor": 5
}
