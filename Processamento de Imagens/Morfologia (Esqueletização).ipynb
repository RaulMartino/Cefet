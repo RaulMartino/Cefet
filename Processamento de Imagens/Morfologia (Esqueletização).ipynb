{
 "cells": [
  {
   "cell_type": "markdown",
   "id": "1e2875de",
   "metadata": {},
   "source": [
    "# Definindo as funções"
   ]
  },
  {
   "cell_type": "code",
   "execution_count": 1,
   "id": "3a0f4a8d",
   "metadata": {},
   "outputs": [],
   "source": [
    "import cv2\n",
    "import numpy as np\n",
    "\n",
    "#Erosão\n",
    "def erosion(raw_img, str_element):\n",
    "    #Definindo a altura e a largura do elemento estruturante\n",
    "    str_element_height = str_element.shape[0]\n",
    "    str_element_width = str_element.shape[1]\n",
    "    str_element_size = str_element.shape[0] #Por ser quadrado, a altura já tá bom pra definir a ordem\n",
    "\n",
    "    #Definindo a altura e a largura da imagem a sofrer erosão\n",
    "    raw_img_height = raw_img.shape[0]\n",
    "    raw_img_width = raw_img.shape[1]\n",
    "    \n",
    "    #Criando a imagem de saída\n",
    "    eroded_img = np.zeros(raw_img.shape[:2], dtype='uint8')\n",
    "\n",
    "    #Fazendo a erosão\n",
    "    for l in range(raw_img_height - (str_element_size-1)):\n",
    "        for k in range(raw_img_width - (str_element_size-1)):\n",
    "            flag = True\n",
    "            for i in range(str_element_height):\n",
    "                for j in range(str_element_width):\n",
    "                    if (str_element[i,j] != raw_img[i+l,j+k]) and (str_element[i,j] == 255):\n",
    "                        flag = False\n",
    "                if (flag == False):\n",
    "                    break\n",
    "            if (flag == True):\n",
    "                eroded_img[l+1,k+1] = 255\n",
    "    return eroded_img\n",
    "\n",
    "def opening(raw_img, str_element):\n",
    "    #Definindo a altura e a largura do elemento estruturante\n",
    "    str_element_height = str_element.shape[0]\n",
    "    str_element_width = str_element.shape[1]\n",
    "    str_element_size = str_element.shape[0] #Por ser quadrado, a altura já tá bom pra definir a ordem\n",
    "\n",
    "    #Definindo a altura e a largura da imagem a sofrer abertura\n",
    "    raw_img_height = raw_img.shape[0]\n",
    "    raw_img_width = raw_img.shape[1]\n",
    "    \n",
    "    #Criando a primeira imagem de saída\n",
    "    eroded_img = np.zeros(raw_img.shape[:2], dtype='uint8')\n",
    "\n",
    "    #Fazendo a erosão\n",
    "    for l in range(raw_img_height - (str_element_size-1)):\n",
    "        for k in range(raw_img_width - (str_element_size-1)):\n",
    "            flag = True\n",
    "            for i in range(str_element_height):\n",
    "                for j in range(str_element_width):\n",
    "                    if (str_element[i,j] != raw_img[i+l,j+k]) and (str_element[i,j] == 255):\n",
    "                        flag = False\n",
    "                if (flag == False):\n",
    "                    break\n",
    "            if (flag == True):\n",
    "                eroded_img[l+1,k+1] = 255\n",
    "    \n",
    "    #Criando a segunda imagem de saída\n",
    "    augmented_img = np.zeros(raw_img.shape[:2], dtype='uint8')\n",
    "    \n",
    "    #Fazendo a dilatação\n",
    "    for l in range(raw_img_height - (str_element_size-1)):\n",
    "        for k in range(raw_img_width - (str_element_size-1)):\n",
    "            for i in range(str_element_height):\n",
    "                for j in range(str_element_width):\n",
    "                    if (str_element[i,j] == eroded_img[i+l,j+k]) and (str_element[i,j] == 255):\n",
    "                        augmented_img[l+1,k+1] = 255\n",
    "                        break\n",
    "    return augmented_img"
   ]
  },
  {
   "cell_type": "markdown",
   "id": "215e36a4",
   "metadata": {},
   "source": [
    "# Fazendo a esqueletização"
   ]
  },
  {
   "cell_type": "code",
   "execution_count": 38,
   "id": "35bbf1e7",
   "metadata": {},
   "outputs": [],
   "source": [
    "#Importando a imagem a ser esqueletizada e deixando em preto e branco\n",
    "path = 'R.png'\n",
    "img = cv2.imread(path, 0)\n",
    "threshold, img_thresh = cv2.threshold(img, 225, 255, cv2.THRESH_BINARY_INV)\n",
    "\n",
    "#Criando o kernel 3x3 com 1's\n",
    "kernel = np.array([[  0,  0,255,  0,  0],\n",
    "                   [  0,  0,255,  0,  0],\n",
    "                   [255,255,255,255,255],\n",
    "                   [  0,  0,255,  0,  0],\n",
    "                   [  0,  0,255,  0,  0]], dtype='uint8')\n",
    "\n",
    "\n",
    "kernel = np.array([[  0,255,  0],\n",
    "                   [255,255,255],\n",
    "                   [  0,255,  0]], dtype='uint8')"
   ]
  },
  {
   "cell_type": "markdown",
   "id": "1b5d53cb",
   "metadata": {},
   "source": [
    "## Parte 1: A - (A opening B)"
   ]
  },
  {
   "cell_type": "code",
   "execution_count": 33,
   "id": "f886556e",
   "metadata": {},
   "outputs": [
    {
     "data": {
      "text/plain": [
       "-1"
      ]
     },
     "execution_count": 33,
     "metadata": {},
     "output_type": "execute_result"
    }
   ],
   "source": [
    "A = img_thresh\n",
    "AoB = opening(img_thresh, kernel)\n",
    "\n",
    "part1 = A - AoB\n",
    "\n",
    "cv2.imshow('A', A)\n",
    "cv2.imshow('AoB', AoB)\n",
    "cv2.imshow('part1', part1)\n",
    "cv2.waitKey()"
   ]
  },
  {
   "cell_type": "markdown",
   "id": "9f1acb8e",
   "metadata": {},
   "source": [
    "## Parte 2: (A erosion B) - ((A erosion B) opening B)"
   ]
  },
  {
   "cell_type": "code",
   "execution_count": 34,
   "id": "89015ca6",
   "metadata": {},
   "outputs": [
    {
     "data": {
      "text/plain": [
       "-1"
      ]
     },
     "execution_count": 34,
     "metadata": {},
     "output_type": "execute_result"
    }
   ],
   "source": [
    "#(A erosion B)\n",
    "A_eroded = erosion(A, kernel)\n",
    "\n",
    "#A_eroded o B\n",
    "A_eroded_then_opened = opening(A_eroded, kernel)\n",
    "\n",
    "part2 = A_eroded - A_eroded_then_opened\n",
    "\n",
    "cv2.imshow('part2', part2)\n",
    "cv2.waitKey()"
   ]
  },
  {
   "cell_type": "markdown",
   "id": "19ee6124",
   "metadata": {},
   "source": [
    "## Parte 3: (A erosion 2B) - ((A erosion 2B) opening B)"
   ]
  },
  {
   "cell_type": "code",
   "execution_count": 35,
   "id": "e61e8b3c",
   "metadata": {},
   "outputs": [
    {
     "data": {
      "text/plain": [
       "-1"
      ]
     },
     "execution_count": 35,
     "metadata": {},
     "output_type": "execute_result"
    }
   ],
   "source": [
    "#(A erosion 2B)\n",
    "A_eroded_2 = erosion(A_eroded, kernel)\n",
    "\n",
    "#A_eroded_2 o B\n",
    "A_eroded_2_then_opened = opening(A_eroded_2, kernel)\n",
    "\n",
    "part3 = A_eroded_2 - A_eroded_2_then_opened\n",
    "\n",
    "cv2.imshow('part3', part3)\n",
    "cv2.waitKey()"
   ]
  },
  {
   "cell_type": "code",
   "execution_count": 31,
   "id": "9f1d8cf9",
   "metadata": {
    "scrolled": true
   },
   "outputs": [
    {
     "data": {
      "text/plain": [
       "-1"
      ]
     },
     "execution_count": 31,
     "metadata": {},
     "output_type": "execute_result"
    }
   ],
   "source": [
    "esqueleton = part1 + part2 + part3\n",
    "\n",
    "cv2.imshow('Original', img)\n",
    "cv2.imshow('Thresh', img_thresh)\n",
    "cv2.imshow('EsqueleTON', esqueleton)\n",
    "cv2.waitKey()"
   ]
  },
  {
   "cell_type": "markdown",
   "id": "af1e3072",
   "metadata": {},
   "source": [
    "# Fazendo em formato de loop"
   ]
  },
  {
   "cell_type": "code",
   "execution_count": 41,
   "id": "04fcc3b4",
   "metadata": {},
   "outputs": [
    {
     "name": "stdout",
     "output_type": "stream",
     "text": [
      "0\n",
      "1\n",
      "2\n",
      "3\n",
      "4\n",
      "5\n",
      "6\n",
      "7\n",
      "8\n",
      "9\n",
      "10\n"
     ]
    },
    {
     "data": {
      "text/plain": [
       "-1"
      ]
     },
     "execution_count": 41,
     "metadata": {},
     "output_type": "execute_result"
    }
   ],
   "source": [
    "A = img_thresh\n",
    "B = kernel\n",
    "AoB = opening(A, B)\n",
    "\n",
    "difference = np.zeros(img.shape[:2], dtype='uint8')\n",
    "\n",
    "for i in range(1000):\n",
    "    #Fazendo a abertura de A por B, se depois da abertura não for nulo, continua\n",
    "    AoB = opening(A, B)\n",
    "    if (AoB.sum() == 0):\n",
    "        break\n",
    "    difference += (A - AoB)\n",
    "    A = erosion(A,B)\n",
    "    print(i)\n",
    "\n",
    "cv2.imshow('Esq', difference)\n",
    "cv2.waitKey()"
   ]
  },
  {
   "cell_type": "code",
   "execution_count": 43,
   "id": "cb850cb1",
   "metadata": {},
   "outputs": [
    {
     "data": {
      "text/plain": [
       "-1"
      ]
     },
     "execution_count": 43,
     "metadata": {},
     "output_type": "execute_result"
    }
   ],
   "source": [
    "show = difference + img\n",
    "cv2.imshow('final', show)\n",
    "cv2.waitKey()"
   ]
  }
 ],
 "metadata": {
  "kernelspec": {
   "display_name": "Python 3 (ipykernel)",
   "language": "python",
   "name": "python3"
  },
  "language_info": {
   "codemirror_mode": {
    "name": "ipython",
    "version": 3
   },
   "file_extension": ".py",
   "mimetype": "text/x-python",
   "name": "python",
   "nbconvert_exporter": "python",
   "pygments_lexer": "ipython3",
   "version": "3.10.9"
  }
 },
 "nbformat": 4,
 "nbformat_minor": 5
}
