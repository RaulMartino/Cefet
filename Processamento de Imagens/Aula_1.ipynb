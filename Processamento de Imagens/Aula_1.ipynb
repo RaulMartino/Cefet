{
 "cells": [
  {
   "cell_type": "code",
   "execution_count": 4,
   "metadata": {},
   "outputs": [
    {
     "name": "stdout",
     "output_type": "stream",
     "text": [
      "(647, 570, 3)\n"
     ]
    },
    {
     "data": {
      "text/plain": [
       "-1"
      ]
     },
     "execution_count": 4,
     "metadata": {},
     "output_type": "execute_result"
    }
   ],
   "source": [
    "import numpy as np\n",
    "import cv2\n",
    "\n",
    "#Lendo uma imagem\n",
    "path = \"Little Red Riding Hood.jpg\"\n",
    "image = cv2.imread(path)\n",
    "\n",
    "#Plotando uma imagem\n",
    "cv2.imshow('Hood', image)\n",
    "cv2.waitKey()\n",
    "\n",
    "#Altura, largura e canais da imagem\n",
    "print(image.shape)"
   ]
  },
  {
   "cell_type": "code",
   "execution_count": 9,
   "metadata": {},
   "outputs": [
    {
     "data": {
      "text/plain": [
       "-1"
      ]
     },
     "execution_count": 9,
     "metadata": {},
     "output_type": "execute_result"
    }
   ],
   "source": [
    "#Separando os canais da imagem\n",
    "b, g, r = cv2.split(image)\n",
    "cv2.imshow('Blue', b)\n",
    "cv2.imshow('Green', g)\n",
    "cv2.imshow('Red', r)\n",
    "cv2.waitKey()\n",
    "\n",
    "#Juntando os canais da imagem\n",
    "merged_image = cv2.merge([b, g, r])\n",
    "cv2.imshow('Merged', merged_image)\n",
    "cv2.waitKey()"
   ]
  },
  {
   "cell_type": "code",
   "execution_count": 20,
   "metadata": {},
   "outputs": [
    {
     "data": {
      "text/plain": [
       "-1"
      ]
     },
     "execution_count": 20,
     "metadata": {},
     "output_type": "execute_result"
    }
   ],
   "source": [
    "#Plotando os canais separadamente\n",
    "blank = np.zeros(image.shape[:2], dtype = 'uint8')\n",
    "blue = cv2.merge([b, blank, blank])\n",
    "green = cv2.merge([blank, g, blank])\n",
    "red = cv2.merge([blank, blank, r])\n",
    "\n",
    "cv2.imshow('Blue', blue)\n",
    "cv2.imshow('Green', green)\n",
    "cv2.imshow('Red', red)\n",
    "\n",
    "cv2.waitKey()"
   ]
  },
  {
   "cell_type": "code",
   "execution_count": 21,
   "metadata": {},
   "outputs": [
    {
     "data": {
      "text/plain": [
       "-1"
      ]
     },
     "execution_count": 21,
     "metadata": {},
     "output_type": "execute_result"
    }
   ],
   "source": [
    "#Fazendo uma imagem em escala de cinza\n",
    "gray = np.zeros(image.shape[:2], dtype = 'uint8')\n",
    "\n",
    "for i in range(image.shape[0]):\n",
    "    for j in range(image.shape[1]):\n",
    "        gray[i][j] = sum(image[i][j])//3\n",
    "\n",
    "cv2.imshow('Grayscale', gray)\n",
    "cv2.waitKey()\n"
   ]
  }
 ],
 "metadata": {
  "kernelspec": {
   "display_name": "Python 3 (ipykernel)",
   "language": "python",
   "name": "python3"
  },
  "language_info": {
   "codemirror_mode": {
    "name": "ipython",
    "version": 3
   },
   "file_extension": ".py",
   "mimetype": "text/x-python",
   "name": "python",
   "nbconvert_exporter": "python",
   "pygments_lexer": "ipython3",
   "version": "3.9.7"
  }
 },
 "nbformat": 4,
 "nbformat_minor": 2
}
