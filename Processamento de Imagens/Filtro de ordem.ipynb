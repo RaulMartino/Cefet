{
 "cells": [
  {
   "cell_type": "code",
   "execution_count": 12,
   "id": "77a70d45",
   "metadata": {},
   "outputs": [
    {
     "data": {
      "text/plain": [
       "-1"
      ]
     },
     "execution_count": 12,
     "metadata": {},
     "output_type": "execute_result"
    }
   ],
   "source": [
    "import cv2\n",
    "import numpy as np\n",
    "import statistics\n",
    "\n",
    "#Importando a imagem e deixando ela em preto e branco\n",
    "path = 'noisy_mona_lisa.jpg'\n",
    "img = cv2.imread(path, 0)\n",
    "threshold, img_thresh = cv2.threshold(img, 100, 255, cv2.THRESH_BINARY)\n",
    "img_height = img.shape[0]\n",
    "img_width = img.shape[1]\n",
    "\n",
    "# Criando o kernel\n",
    "kernel = np.array([[  0,255,  0],\n",
    "                   [255,255,255],\n",
    "                   [  0,255,  0]], dtype='uint8')\n",
    "\n",
    "kernel_size = kernel.shape[0]\n",
    "kernel_height = kernel.shape[0]\n",
    "kernel_width = kernel.shape[1]\n",
    "\n",
    "# Criando imagem de saída\n",
    "ordered_img = np.zeros(img.shape[:2], dtype='uint8')\n",
    "\n",
    "for l in range(img_height - (kernel_size-1)):\n",
    "    for k in range(img_width - (kernel_size-1)):\n",
    "        greatest_number = 0\n",
    "        for i in range(kernel_height):\n",
    "            for j in range(kernel_width):\n",
    "                if img[i+l,j+k] > greatest_number:\n",
    "                    greatest_number = img[i+l,j+k]\n",
    "        ordered_img[l+1,k+1] = greatest_number\n",
    "        \n",
    "cv2.imshow('Original Img', img)\n",
    "cv2.imshow('Ordered Img', ordered_img)\n",
    "cv2.waitKey()"
   ]
  },
  {
   "cell_type": "code",
   "execution_count": 13,
   "id": "8bbea14f",
   "metadata": {},
   "outputs": [
    {
     "data": {
      "text/plain": [
       "-1"
      ]
     },
     "execution_count": 13,
     "metadata": {},
     "output_type": "execute_result"
    }
   ],
   "source": [
    "# Criando imagem de saída\n",
    "mode_img = np.zeros(img.shape[:2], dtype='uint8')\n",
    "\n",
    "for l in range(img_height - (kernel_size-1)):\n",
    "    for k in range(img_width - (kernel_size-1)):\n",
    "        kernel_array = []\n",
    "        for i in range(kernel_height):\n",
    "            for j in range(kernel_width):\n",
    "                kernel_array.append(img[i+l,j+k]) \n",
    "        # Achando o valor que mais aparece em kernel_array\n",
    "        mode = statistics.mode(kernel_array)\n",
    "        mode_img[l+1,k+1] = mode\n",
    "        \n",
    "cv2.imshow('Original Img', img)\n",
    "cv2.imshow('Mode Img', mode_img)\n",
    "cv2.waitKey()      "
   ]
  },
  {
   "cell_type": "code",
   "execution_count": 8,
   "id": "54ec1f37",
   "metadata": {},
   "outputs": [],
   "source": []
  }
 ],
 "metadata": {
  "kernelspec": {
   "display_name": "Python 3 (ipykernel)",
   "language": "python",
   "name": "python3"
  },
  "language_info": {
   "codemirror_mode": {
    "name": "ipython",
    "version": 3
   },
   "file_extension": ".py",
   "mimetype": "text/x-python",
   "name": "python",
   "nbconvert_exporter": "python",
   "pygments_lexer": "ipython3",
   "version": "3.10.9"
  }
 },
 "nbformat": 4,
 "nbformat_minor": 5
}
