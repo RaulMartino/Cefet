{
 "cells": [
  {
   "cell_type": "code",
   "execution_count": 123,
   "id": "9d643309",
   "metadata": {},
   "outputs": [],
   "source": [
    "import numpy as np\n",
    "import cv2\n",
    "\n",
    "matrix = np.array([[0,1,0],\n",
    "                   [1,-4,1],\n",
    "                   [0,1,0]])\n",
    "\n",
    "\"\"\"matrix = np.array([[0,0,0,0,0],\n",
    "                   [0,0,1,0,0],\n",
    "                   [0,1,-4,1,0],\n",
    "                   [0,0,1,0,0],\n",
    "                   [0,0,0,0,0]])\"\"\"\n",
    "\n",
    "img = np.array([[0,0,0,0,0,0,0],\n",
    "                [0,1,2,3,4,5,0],\n",
    "                [0,0,1,3,4,0,0],\n",
    "                [0,1,1,3,2,0,0],\n",
    "                [0,0,0,4,5,6,0],\n",
    "                [0,1,0,7,8,0,0],\n",
    "                [0,0,0,0,0,0,0]])\n",
    "\n",
    "resultado = np.zeros((5,5), dtype='uint8')\n",
    "\n",
    "matrix_height = matrix.shape[0]\n",
    "matrix_width = matrix.shape[1]"
   ]
  },
  {
   "cell_type": "code",
   "execution_count": 119,
   "id": "f90d4b71",
   "metadata": {},
   "outputs": [
    {
     "name": "stdout",
     "output_type": "stream",
     "text": [
      "1\n",
      "4\n",
      "8\n",
      "7\n",
      "4\n",
      "5\n",
      "11\n",
      "15\n",
      "17\n",
      "11\n",
      "1\n",
      "8\n",
      "17\n",
      "22\n",
      "15\n",
      "3\n",
      "13\n",
      "21\n",
      "20\n",
      "10\n",
      "0\n",
      "4\n",
      "9\n",
      "15\n",
      "11\n"
     ]
    }
   ],
   "source": [
    "soma = 0\n",
    "for l in range(5):\n",
    "    for k in range(5):\n",
    "        for i in range(matrix_height):\n",
    "            for j in range(matrix_width):\n",
    "                soma += (matrix[i,j] * img[i+l,j+k])\n",
    "\n",
    "        print(soma)\n",
    "        resultado[l,k] = soma \n",
    "        soma = 0"
   ]
  },
  {
   "cell_type": "code",
   "execution_count": 120,
   "id": "7a96ed2c",
   "metadata": {},
   "outputs": [
    {
     "data": {
      "text/plain": [
       "array([[ 1,  4,  8,  7,  4],\n",
       "       [ 5, 11, 15, 17, 11],\n",
       "       [ 1,  8, 17, 22, 15],\n",
       "       [ 3, 13, 21, 20, 10],\n",
       "       [ 0,  4,  9, 15, 11]], dtype=uint8)"
      ]
     },
     "execution_count": 120,
     "metadata": {},
     "output_type": "execute_result"
    }
   ],
   "source": [
    "resultado"
   ]
  },
  {
   "cell_type": "markdown",
   "id": "25e894dc",
   "metadata": {},
   "source": [
    "## Aplicando a convolução a uma imagem"
   ]
  },
  {
   "cell_type": "code",
   "execution_count": 137,
   "id": "cb1691f2",
   "metadata": {},
   "outputs": [],
   "source": [
    "#Carregando a imagem\n",
    "path = 'kid kakashi.png'\n",
    "img = cv2.imread(path)\n",
    "\n",
    "img_height = img.shape[0]\n",
    "img_width = img.shape[1]\n",
    "\n",
    "#Transformando em escala de cinza\n",
    "gray = np.zeros(img.shape[:2], dtype = 'uint8')\n",
    "\n",
    "for i in range(img_height):\n",
    "    for j in range(img_width):\n",
    "        gray[i][j] = sum(img[i][j])//3\n",
    "        \n",
    "cv2.imshow('Gray', gray)\n",
    "cv2.waitKey()\n",
    "\n",
    "#Criando uma borda de zeros\n",
    "imagem_com_borda = cv2.copyMakeBorder(gray, 1,1,1,1, cv2.BORDER_CONSTANT, value = 0)"
   ]
  },
  {
   "cell_type": "code",
   "execution_count": 85,
   "id": "aabe8d60",
   "metadata": {},
   "outputs": [
    {
     "data": {
      "text/plain": [
       "-1"
      ]
     },
     "execution_count": 85,
     "metadata": {},
     "output_type": "execute_result"
    }
   ],
   "source": [
    "cv2.imshow('Imagem com borda', imagem_com_borda)\n",
    "cv2.waitKey()"
   ]
  },
  {
   "cell_type": "code",
   "execution_count": 140,
   "id": "021b63c4",
   "metadata": {},
   "outputs": [
    {
     "name": "stdout",
     "output_type": "stream",
     "text": [
      "[[0 0 0 ... 0 0 0]\n",
      " [0 0 0 ... 0 0 0]\n",
      " [0 0 0 ... 0 0 0]\n",
      " ...\n",
      " [0 0 0 ... 0 0 0]\n",
      " [0 0 0 ... 0 0 0]\n",
      " [0 0 0 ... 0 0 0]]\n"
     ]
    },
    {
     "data": {
      "text/plain": [
       "-1"
      ]
     },
     "execution_count": 140,
     "metadata": {},
     "output_type": "execute_result"
    }
   ],
   "source": [
    "soma = 0\n",
    "imagem_resultante = np.zeros((img.shape[0], img.shape[1]), dtype=np.uint8)\n",
    "print(imagem_resultante)\n",
    "\n",
    "for l in range(img_height):\n",
    "    for k in range(img_width):\n",
    "        for i in range(matrix_height):\n",
    "            for j in range(matrix_width):\n",
    "                soma += (matrix[i,j] * imagem_com_borda[i+l,j+k])\n",
    "        \n",
    "        if (soma<=0):\n",
    "            soma = soma * -1\n",
    "        elif (soma > 255):\n",
    "            soma = 255\n",
    "            \n",
    "        imagem_resultante[l,k] = soma\n",
    "        soma = 0\n",
    "\n",
    "cv2.imshow('Gray', gray)\n",
    "cv2.imshow('Resultado', imagem_resultante)\n",
    "cv2.waitKey()\n"
   ]
  },
  {
   "cell_type": "code",
   "execution_count": 55,
   "id": "f9d084e1",
   "metadata": {},
   "outputs": [
    {
     "data": {
      "text/plain": [
       "-1"
      ]
     },
     "execution_count": 55,
     "metadata": {},
     "output_type": "execute_result"
    }
   ],
   "source": [
    "imagem_resultante = np.zeros((img_height, img_width), dtype=np.uint8)\n",
    "cv2.imshow('Resultado', imagem_resultante)\n",
    "cv2.waitKey()"
   ]
  }
 ],
 "metadata": {
  "kernelspec": {
   "display_name": "Python 3 (ipykernel)",
   "language": "python",
   "name": "python3"
  },
  "language_info": {
   "codemirror_mode": {
    "name": "ipython",
    "version": 3
   },
   "file_extension": ".py",
   "mimetype": "text/x-python",
   "name": "python",
   "nbconvert_exporter": "python",
   "pygments_lexer": "ipython3",
   "version": "3.10.9"
  }
 },
 "nbformat": 4,
 "nbformat_minor": 5
}
