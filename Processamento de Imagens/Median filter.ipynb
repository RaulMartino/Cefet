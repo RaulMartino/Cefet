{
 "cells": [
  {
   "cell_type": "code",
   "execution_count": 2,
   "metadata": {},
   "outputs": [],
   "source": [
    "import cv2\n",
    "import numpy as np\n",
    "import statistics\n",
    "\n",
    "# Importando a imagem em tons de cinza\n",
    "path = 'lowcontrast.jpg'\n",
    "img = cv2.imread(path, 0)\n",
    "\n",
    "# Criando o kernel\n",
    "kernel = np.array([[  0,255,  0],\n",
    "                   [255,255,255],\n",
    "                   [  0,255,  0]], dtype='uint8')\n",
    "\n",
    "kernel_size = kernel.shape[0]\n",
    "kernel_height = kernel.shape[0]\n",
    "kernel_width = kernel.shape[1]\n",
    "\n",
    "# Colocando uma borda de zeros na imagem\n",
    "bordered_img = np.pad(\n",
    "    kernel, \n",
    "    pad_width = 1, \n",
    "    mode = 'constant', \n",
    "    constant_values = 0\n",
    "    )\n",
    "\n",
    "b_img_height = bordered_img.shape[0]\n",
    "b_img_width = bordered_img.shape[1]\n",
    "\n",
    "\n",
    "# Criando imagem de saída\n",
    "median_img = np.zeros(img.shape[:2], dtype='uint8')\n",
    "\n",
    "for k in range(b_img_height - (kernel_size-1)):\n",
    "    for l in range(b_img_width - (kernel_size-1)):\n",
    "        range_array = []\n",
    "        for i in range(kernel_height):\n",
    "            for j in range(kernel_width):\n",
    "                range_array.append(bordered_img[i+k, l+j])\n",
    "        # Achando a mediana (valor do meio) no array\n",
    "        median = statistics.median(range_array)\n",
    "\n"
   ]
  },
  {
   "cell_type": "code",
   "execution_count": 5,
   "metadata": {},
   "outputs": [
    {
     "data": {
      "text/plain": [
       "array([[  0,   0,   0,   0,   0],\n",
       "       [  0,   0, 255,   0,   0],\n",
       "       [  0, 255, 255, 255,   0],\n",
       "       [  0,   0, 255,   0,   0],\n",
       "       [  0,   0,   0,   0,   0]], dtype=uint8)"
      ]
     },
     "execution_count": 5,
     "metadata": {},
     "output_type": "execute_result"
    }
   ],
   "source": [
    "kernel2 = np.pad(kernel, pad_width = 1, mode='constant', constant_values=0)\n",
    "\n",
    "kernel2"
   ]
  }
 ],
 "metadata": {
  "kernelspec": {
   "display_name": "base",
   "language": "python",
   "name": "python3"
  },
  "language_info": {
   "codemirror_mode": {
    "name": "ipython",
    "version": 3
   },
   "file_extension": ".py",
   "mimetype": "text/x-python",
   "name": "python",
   "nbconvert_exporter": "python",
   "pygments_lexer": "ipython3",
   "version": "3.9.7"
  }
 },
 "nbformat": 4,
 "nbformat_minor": 2
}
