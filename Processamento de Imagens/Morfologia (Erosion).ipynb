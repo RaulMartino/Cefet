{
 "cells": [
  {
   "cell_type": "code",
   "execution_count": 87,
   "id": "f69c51c4",
   "metadata": {},
   "outputs": [],
   "source": [
    "import cv2\n",
    "import numpy as np\n",
    "\n",
    "#Criando uma imagem de teste\n",
    "imagem_teste = np.array([[1,1,1,1,0,0,0,0,0],\n",
    "                         [1,1,1,0,0,0,0,0,0],\n",
    "                         [1,1,1,1,0,0,1,0,0],\n",
    "                         [0,0,1,1,1,1,1,0,0],\n",
    "                         [0,0,1,1,1,1,1,0,0],\n",
    "                         [0,0,1,1,1,1,1,0,0],\n",
    "                         [0,0,1,0,0,0,1,1,1],\n",
    "                         [0,0,0,0,0,0,1,1,1],\n",
    "                         [0,0,0,0,0,0,1,1,1]],\n",
    "                         dtype='uint8')\n",
    "\n",
    "#Criando o kernel 3x3 com 1's\n",
    "kernel = np.array([[255,255,255],\n",
    "                   [255,255,255],\n",
    "                   [255,255,255]], dtype='uint8')\n",
    "\n",
    "kernel_height = kernel.shape[0]\n",
    "kernel_width = kernel.shape[1]"
   ]
  },
  {
   "cell_type": "code",
   "execution_count": 88,
   "id": "0d7beac3",
   "metadata": {},
   "outputs": [
    {
     "name": "stdout",
     "output_type": "stream",
     "text": [
      "[[0 0 0 0 0 0 0 0 0]\n",
      " [0 1 0 0 0 0 0 0 0]\n",
      " [0 0 0 0 0 0 0 0 0]\n",
      " [0 0 0 0 0 0 0 0 0]\n",
      " [0 0 0 1 1 1 0 0 0]\n",
      " [0 0 0 0 0 0 0 0 0]\n",
      " [0 0 0 0 0 0 0 0 0]\n",
      " [0 0 0 0 0 0 0 1 0]\n",
      " [0 0 0 0 0 0 0 0 0]]\n"
     ]
    }
   ],
   "source": [
    "#Criando a imagem de saída\n",
    "eroded_img = np.zeros((9,9), dtype='uint8')\n",
    "\n",
    "#Fazendo a erosão\n",
    "for l in range(7):\n",
    "    for k in range(7):\n",
    "        flag = True\n",
    "        for i in range(kernel_height):\n",
    "            for j in range(kernel_width):\n",
    "                if (kernel[i,j] != imagem_teste[i+l,j+k]) and (kernel[i,j] == 1):\n",
    "                    flag = False\n",
    "            if (flag == False):\n",
    "                break\n",
    "        if (flag == True):\n",
    "            eroded_img[l+1,k+1] = 1\n",
    "            \n",
    "print(eroded_img)"
   ]
  },
  {
   "cell_type": "markdown",
   "id": "4969810b",
   "metadata": {},
   "source": [
    "## Fazendo pra valer"
   ]
  },
  {
   "cell_type": "code",
   "execution_count": 113,
   "id": "332b0f64",
   "metadata": {},
   "outputs": [
    {
     "name": "stdout",
     "output_type": "stream",
     "text": [
      "[[0 0 0 ... 0 0 0]\n",
      " [0 0 0 ... 0 0 0]\n",
      " [0 0 0 ... 0 0 0]\n",
      " ...\n",
      " [0 0 0 ... 0 0 0]\n",
      " [0 0 0 ... 0 0 0]\n",
      " [0 0 0 ... 0 0 0]]\n"
     ]
    },
    {
     "data": {
      "text/plain": [
       "-1"
      ]
     },
     "execution_count": 113,
     "metadata": {},
     "output_type": "execute_result"
    }
   ],
   "source": [
    "#Importando a imagem e deixando ela em preto e branco\n",
    "path = 'lowcontrast.jpg'\n",
    "img = cv2.imread(path, 0)\n",
    "threshold, img_thresh = cv2.threshold(img, 225, 255, cv2.THRESH_BINARY_INV)\n",
    "img_height = img.shape[0]\n",
    "img_width = img.shape[1]\n",
    "\n",
    "#Criando o kernel 3x3 com 1's\n",
    "kernel = np.array([[255,255,255],\n",
    "                   [255,255,255],\n",
    "                   [255,255,255]], dtype='uint8')\n",
    "\n",
    "kernel_height = kernel.shape[0]\n",
    "kernel_width = kernel.shape[1]\n",
    "\n",
    "#Criando a imagem de saída\n",
    "eroded_img = np.zeros(img.shape[:2], dtype='uint8')\n",
    "\n",
    "\n",
    "#Fazendo a erosão\n",
    "for l in range(img_height - 2):\n",
    "    for k in range(img_width - 2):\n",
    "        flag = True\n",
    "        for i in range(kernel_height):\n",
    "            for j in range(kernel_width):\n",
    "                if (kernel[i,j] != img_thresh[i+l,j+k]) and (kernel[i,j] == 255):\n",
    "                    flag = False\n",
    "            if (flag == False):\n",
    "                break\n",
    "        if (flag == True):\n",
    "            eroded_img[l+1,k+1] = 255\n",
    "\n",
    "\n",
    "print(eroded_img)\n",
    "cv2.imshow('Original',img_thresh)\n",
    "cv2.imshow('Eroded',eroded_img)\n",
    "cv2.waitKey()"
   ]
  },
  {
   "cell_type": "code",
   "execution_count": 105,
   "id": "0041414d",
   "metadata": {},
   "outputs": [
    {
     "name": "stdout",
     "output_type": "stream",
     "text": [
      "[[255 255 255 ... 255 255 255]\n",
      " [255 255 255 ... 255 255 255]\n",
      " [255 255 255 ... 255 255 255]\n",
      " ...\n",
      " [255 255 255 ... 255 255 255]\n",
      " [255 255 255 ... 255 255 255]\n",
      " [255 255 255 ... 255 255 255]]\n"
     ]
    }
   ],
   "source": []
  }
 ],
 "metadata": {
  "kernelspec": {
   "display_name": "Python 3 (ipykernel)",
   "language": "python",
   "name": "python3"
  },
  "language_info": {
   "codemirror_mode": {
    "name": "ipython",
    "version": 3
   },
   "file_extension": ".py",
   "mimetype": "text/x-python",
   "name": "python",
   "nbconvert_exporter": "python",
   "pygments_lexer": "ipython3",
   "version": "3.10.9"
  }
 },
 "nbformat": 4,
 "nbformat_minor": 5
}
